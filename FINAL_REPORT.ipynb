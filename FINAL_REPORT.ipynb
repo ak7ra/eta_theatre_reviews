{
 "cells": [
  {
   "cell_type": "markdown",
   "id": "97f07ddf-1922-42a4-b957-95c225746238",
   "metadata": {},
   "source": [
    "# Exploratory Text Analysis of Theater Performance Reviews\n",
    "\n",
    "### Ami Kano"
   ]
  },
  {
   "cell_type": "markdown",
   "id": "7f56a045-f942-4600-928f-09bc415466d3",
   "metadata": {
    "tags": []
   },
   "source": [
    "## Introduction"
   ]
  },
  {
   "cell_type": "markdown",
   "id": "39e0c7c4-7bfb-446a-a642-a2f4426e5abd",
   "metadata": {},
   "source": [
    "Theatrical performances are an art form that are expressed through rich, live storytelling. But how are those expressions received? What kind of discourse occurs from them? This project analyzes approximately 300 theatre performance reviews using Principle Component Analysis, Topic Models, Word Embeddings (word2vec) and Sentiment Analysis. Through these analyses, insights into theatrical performance reviews are uncovered."
   ]
  },
  {
   "cell_type": "markdown",
   "id": "fabbe4b9-c885-46e9-9938-73b99ae0a966",
   "metadata": {
    "tags": []
   },
   "source": [
    "## Source Data"
   ]
  },
  {
   "cell_type": "markdown",
   "id": "ff0d0de5-d7b3-40e0-ba98-5296d1a164d2",
   "metadata": {},
   "source": [
    "The source data for this analysis was collected from the website **https://www.playshakespeare.com/**. This website describes itself as 'the best Shakespeare source for plays, news, reviews, and discussion' and contains, amongst other contents, reviews of theatrical performances based on the works of William Shakespeare.\n",
    "\n",
    "As the website was not web-scraping friendly, the webpages containing the reviews were manually downloaded as HTML files. In total, there were 292 HTML files which were later parsed into more analysis-appropriate formats. The code developed to parse through the source files are stored in the `parser.ipynb` file. This file, along with the 292 HTML files, are available on the GitHub page for this project:\n",
    "\n",
    "* `parser.ipynb` : https://github.com/ak7ra/eta_theatre_reviews/blob/main/parser.ipynb\n",
    "* Source HTML files: https://github.com/ak7ra/eta_theatre_reviews/tree/main/data"
   ]
  },
  {
   "cell_type": "markdown",
   "id": "628d2a5f-37a6-4093-afe6-7fbbbb012f36",
   "metadata": {},
   "source": [
    "The distribution of Shakespeare's work that the reviewed performances were based on, along with their genre, are as follows:\n",
    "\n",
    "<table><tr>\n",
    "<td> <img src=\"output/images/og_work_count.png\"  style=\"width: 200px;\"/> </td>\n",
    "<td> <img src=\"output/images/genre_count.png\"  style=\"width: 200px;\"/> </td>\n",
    "</tr></table>\n",
    "\n",
    "The original works have an unequal distribution, but the genre is equally distributed within the corpus."
   ]
  },
  {
   "cell_type": "markdown",
   "id": "49daf0c5-d385-45be-a49c-6ff1d9945fe3",
   "metadata": {},
   "source": [
    "Below is a histogram of the word counts of each review, post-parsing:\n",
    "\n",
    "<img src=\"output/images/corpus_length_histogram.png\"  style=\"width: 600px;\"/> </td>\n",
    "\n",
    "From the histogram, it can be seen that most reviews are around 1000 words in length. The outliers, such as the review with approximately 5000 words, were reviews written by those who were more emotionally invested in the performance in question.  "
   ]
  },
  {
   "cell_type": "markdown",
   "id": "6ed541db-c4f5-46f1-8e14-915be50c8bf3",
   "metadata": {},
   "source": [
    "## Data Model"
   ]
  },
  {
   "cell_type": "markdown",
   "id": "30798bc1-42f5-45ba-8469-ad546d77bc5e",
   "metadata": {},
   "source": [
    "The tables generated through the analysis will be discussed here briefly. The finer details and the URLs of the tables are listed in the appendix of this paper. "
   ]
  },
  {
   "cell_type": "markdown",
   "id": "c6ae1548-1ca2-417a-907e-3136299cc363",
   "metadata": {},
   "source": [
    "#### Core Tables\n",
    "These tables were generated from the source files with the `parser.ipynb` file:\n",
    "\n",
    "* `CORPUS.csv`\n",
    "* `LIB.csv`\n",
    "* `VOCAB.csv`\n",
    "\n",
    "It should be noted that the `CORPUS` table has the indices `review_id`, `sent_id`, and `token_id` unlike OHCO, which is more commonly used. This is because the HTML format of the source documents made it impossible to separate paragraphs. In addition, most reviews had two or less paragraphs, suggesting that having the additional paragraph index would not be so helpful in the analysis. \n",
    "\n",
    "In addition, the `CORPUS` table was filtered to exclude the names of characters present in Shakespeare's works. This was done to improve the results of the analyses, as the character names would be given a disproportionate level of importance due to their frequency.\n",
    "\n",
    "The `LIB` table contains a few unique fields: `Original Work`, `Overall Rating`, `Genre` and `Rating Category`. The first two fields were extracted from the source file. `Original Work` refers to the Shakespeare work that the performance was based on, and contains values such as 'Twelfth Night' and 'MacBeth'. `Overall Rating` is a numerical variable containing integers from 1 to 5, with 1 as the lowest rating and 5 as the highest. The `Overall Rating` variable has a right-skewed distribution that looks like:\n",
    "\n",
    "<img src=\"output/images/rating_histogram_plain.png\"  style=\"width: 600px;\"/> </td>\n",
    "\n",
    "And this distribution is shared amongst different genres:\n",
    "\n",
    "<img src=\"output/images/rating_histogram.png\"  style=\"width: 600px;\"/> </td>\n",
    "\n",
    "The `Rating Category` variable was generated based on the `Overall Rating` variable. Reviews with `Overall Rating` values of 3 or less were given a `Rating Category` value of 'Negative', and those with `Overall Rating` values of 4 or higher were given a `Rating Category` value of 'Positive'.\n",
    "\n",
    "The `Genre` variable was generated based on the `Original Work` variable and has the values 'Comedy' and 'Tragedy'. It is a categorical variable indicating the genre of the referenced Shakespeare's work. \n",
    "\n",
    "Lastly, it should be noted that the `VOCAB` table had the field `dfidf` added onto itself during one of the analyses."
   ]
  },
  {
   "cell_type": "markdown",
   "id": "373b07ea-2f0f-42f8-8eec-b5b13ebd27a2",
   "metadata": {},
   "source": [
    "#### Tables Generated During Analyses\n",
    "\n",
    "The tables below were generated through various text analysis methods employed in the `analysis.ipynb` file:\n",
    "\n",
    "##### Principal Components Analysis (PCA)\n",
    "\n",
    "* `reduced_tfidf.csv`\n",
    "* `pca_dcm.csv`\n",
    "* `pca_loadings.csv`\n",
    "* `pca_compinf.csv`\n",
    "\n",
    "##### Topic Models (LDA)\n",
    "\n",
    "* `topic.csv`\n",
    "* `topic_theta.csv`\n",
    "* `topic_phi.csv`\n",
    "\n",
    "##### Word Embeddings (word2vec)\n",
    "\n",
    "* `word2vec.csv`\n",
    "\n",
    "##### Sentiment Analysis\n",
    "\n",
    "* `sentiment.csv`"
   ]
  },
  {
   "cell_type": "markdown",
   "id": "d75f80b2-d056-4320-a8e1-5dfc9d92f28b",
   "metadata": {},
   "source": [
    "## Exploration/Interpretation\n",
    "\n",
    "Here, the exploration of the corpus will be discussed. Each text analysis methods employed will be discussed in separate sections."
   ]
  },
  {
   "cell_type": "markdown",
   "id": "ad713521-5879-4e4c-bac5-1d55e8811e97",
   "metadata": {},
   "source": [
    "### Principal Components Analysis (PCA)"
   ]
  },
  {
   "cell_type": "markdown",
   "id": "431a6c6a-d8be-49d6-8f02-b3f0d654459d",
   "metadata": {},
   "source": [
    "For this analysis, the `VOCAB` table was filtered down to the 1000 most important nouns as ranked by DFIDF. \n",
    "\n",
    "The filtered down `VOCAB` table was then used to produce a TFIDF table with `review_id` as the index. \n",
    "\n",
    "With this TFIDF table and the hyperparameters `k=10`, `norm_docs=True`, `center_by_mean=False`,`center_by_variance=False`, three tables were created: the DCM table, the loadings table, and the compinf table. These three tables contain information on the principal components, either on word or document level."
   ]
  },
  {
   "cell_type": "markdown",
   "id": "414fe2fb-9888-4b87-908e-d6497ef5ea92",
   "metadata": {},
   "source": [
    "In order to explore the corpus, visualizations were made based on the DCM table.\n",
    "\n",
    "Below is a scatterplot of the reviews with PC0 and PC1 as the x-axis and y-axis respectively, with colors indicating the genre of the referenced Shakespeare play:\n",
    "\n",
    "<img src=\"output/images/vis_pcs_0_1_Genre.png\"  style=\"width: 600px;\"/> </td>\n",
    "\n",
    "It can be observed that the reviews of plays with different genres overlap to some degree, but those in the 'Comedy' category tend to have higher PC1 values.\n",
    "\n",
    "This can be further explored in detail by changing the colors to indicate the referenced work:\n",
    "\n",
    "<img src=\"output/images/vis_pcs_0_1_Original Work.png\"  style=\"width: 600px;\"/> </td>\n",
    "\n",
    "The non-overlapping reviews seem to be limited to reviews of performances of *Midsummer Night's Dream* and *MacBeth*."
   ]
  },
  {
   "cell_type": "markdown",
   "id": "fabb2097-526c-4948-a9c5-ee1bd68aef80",
   "metadata": {},
   "source": [
    "PC0 and PC1 are further examined with information on the loadings table:\n",
    "\n",
    "<table><tr>\n",
    "<td> <img src=\"output/images/pc0_sorted.png\"  style=\"width: 130px;\"/> </td>\n",
    "<td> <img src=\"output/images/pc1_sorted.png\"  style=\"width: 130px;\"/> </td>\n",
    "</tr></table>\n",
    "\n",
    "PC0 has less distinguishable themes, but PC1 seems to be differenciating between positive and dreamy characters/nouns like 'fairies' and 'dream' and suspenseful ones like 'witches' and 'murder'. It makes sense that PC1 is differentiating between reviews of comedy performances and tragedy performances. \n",
    "\n",
    "It also makes sense that the works that involve these words the most are on polar ends. Although positive/dreamy words like 'fairies' and 'dream' are associated with many Shakespearian comedies to some degree, they are most prevalent in *Midsummer Night's Dream* - especially the word 'fairies'. This placed review documents pertaining to *Midsummer Night's Dream* performances on the high end of PC1. Similarly, words that insinuate fear and suspense like 'witch' and 'murder' are common in tragedies, but especially so in 'MacBeth'."
   ]
  },
  {
   "cell_type": "markdown",
   "id": "76cd5405-181e-4608-b023-1f7eff5c3b32",
   "metadata": {},
   "source": [
    "Similar results are made from principal components 2 and 3:\n",
    "\n",
    "<table><tr>\n",
    "<td> <img src=\"output/images/vis_pcs_2_3_Genre.png\"  style=\"width: 350px;\"/> </td>\n",
    "    <td> <img src=\"output/images/vis_pcs_2_3_Original Work.png\"  style=\"width: 350px;\"/> </td>\n",
    "<td> <img src=\"output/images/pc2_top10.png\"  style=\"width: 130px;\"/> </td>\n",
    "</tr></table>"
   ]
  },
  {
   "cell_type": "markdown",
   "id": "5646b8e2-c5b1-4076-94b8-dff59f660b13",
   "metadata": {},
   "source": [
    "PC2 differentiates reviews on tragedy and comedy, as reviews of Shakespearian comedy performances have a significantly larger distribution compared to those of tragedies. However, upon further inspection, it can be seen that this differentiation is mostly based on reviews of 'Twelfth Night' performances. The lower end of PC2 includes words strongly associated with this particular play. This further proves that the principal components in this model can distinguish between different categories but are mostly driven by the original works that the reviewed performances are based on."
   ]
  },
  {
   "cell_type": "markdown",
   "id": "5609a82b-5854-40ae-9799-7a1b5d870052",
   "metadata": {},
   "source": [
    "One side note is that the rating of a performance were not distinguishable by the principal components.\n",
    "\n",
    "<img src=\"output/images/vis_pcs_0_1_Rating Category.png\"  style=\"width: 500px;\"/>\n",
    "\n",
    "As one can see, there seems to be no distinction between positive and negative reviews."
   ]
  },
  {
   "cell_type": "markdown",
   "id": "29b2fe95-52fb-4bc0-9fee-5ebec72f0684",
   "metadata": {},
   "source": [
    "### Topic Models (LDA)"
   ]
  },
  {
   "cell_type": "markdown",
   "id": "8ddacd80-d591-4249-9b69-79a9c55e251c",
   "metadata": {},
   "source": [
    "For topic modeling, the contents of the `CORPUS` table and `VOCAB` talbe were filtered to include only nouns and verbs. In addition, the LDA was done with the hyperparameters `max_iter=5`, `learning_offset=50`, and `random_state=0`."
   ]
  },
  {
   "cell_type": "markdown",
   "id": "92f9f6a1-bdd3-4329-959b-7a17c2bfcc93",
   "metadata": {},
   "source": [
    "Below are the 5 most prominent topics in the corpus:\n",
    "\n",
    "<img src=\"output/images/topic_top5.png\"  style=\"width: 750px;\"/>\n",
    "\n",
    "Reviews of performances primarily discuss the components of a theatre performance like the acting, directing and technical design choices. "
   ]
  },
  {
   "cell_type": "markdown",
   "id": "956c0f26-341d-4b60-82eb-af777d5d3d7b",
   "metadata": {},
   "source": [
    "There were minial differences in the prominence of each topic by category. The importance of each topic by original work and rating category are explored in `analysis.ipynb` but not included in this report.\n",
    "\n",
    "The importance of the topics to each genre is shown by the heatmap below:\n",
    "\n",
    "<img src=\"output/images/topic_by_genre.png\"  style=\"width: 750px;\"/>\n",
    "\n",
    "The only significant difference in importance is that of topic 19, which has the labels 'act', 'fight', 'come', 'play', 'scenes', 'speech', and 'portrays'. Topic 19 is heavily attributed to the Tragedy genre, which may be explained by one of the labels 'fight' as Shakespearian tragedies often depict violence, fighting and death."
   ]
  },
  {
   "cell_type": "markdown",
   "id": "88f66bae-753c-494f-8a74-4b9f29005e40",
   "metadata": {},
   "source": [
    "### Word Embeddings (word2vec)"
   ]
  },
  {
   "cell_type": "markdown",
   "id": "e4d53e78-6a38-4459-8393-a7051533cf0b",
   "metadata": {},
   "source": [
    "Prior to executing this analysis, the corpus was filtered to contain only nouns and verbs. The word2vec model was created with the hyperparameters `window = 2`, `vector_size = 256`, `min_count = 50`, and `workers = 4`, and the coordinates of each word was generated with the hyperparameters `learning_rate = 200`, `perplexity = 20`, `n_components = 2`, `init = 'random'`, `n_iter = 1000`, and `random_state = 42`."
   ]
  },
  {
   "cell_type": "markdown",
   "id": "1e96a00b-4b79-4f52-87f0-67957052bd2a",
   "metadata": {},
   "source": [
    "The plot of the word embeddings is as below:\n",
    "\n",
    "<img src=\"output/images/gensim.png\"  style=\"width: 600px;\"/>"
   ]
  },
  {
   "cell_type": "markdown",
   "id": "2c98ff64-236c-47d1-907d-a91179eb31d2",
   "metadata": {},
   "source": [
    "The word2vec model plots words pertaining to the production, such as those involved with casting and design choices, in vicinity of each other. For example, the word 'design' is most associated with the words below:\n",
    "\n",
    "<img src=\"output/images/gensim_similar_design.png\"  style=\"width: 130px;\"/>\n",
    "\n",
    "And the word 'actor' with the ones below:\n",
    "\n",
    "<img src=\"output/images/gensim_similar_actor.png\"  style=\"width: 130px;\"/>"
   ]
  },
  {
   "cell_type": "markdown",
   "id": "579896ab-af90-4dd2-a5b2-3ad6cead3c37",
   "metadata": {},
   "source": [
    "However, the word2vec model does not quite encapsulate the content of the plays themselves. For example, when the word2vec model attempts to make an analogy between 'comedy' and 'tragedy', it associates the word 'life' with:\n",
    "\n",
    "<img src=\"output/images/gensim_comedy_life_tragedy.png\"  style=\"width: 130px;\"/>\n",
    "\n",
    "One would think that words like 'death' would be chosen as an appropriate answer, but the closest word that the model outputs is 'fight'."
   ]
  },
  {
   "cell_type": "markdown",
   "id": "7d173ff5-046a-4483-a016-b36218388a35",
   "metadata": {},
   "source": [
    "### Sentiment Analysis"
   ]
  },
  {
   "cell_type": "markdown",
   "id": "cd2c6bb2-1c65-422f-8422-5a631286968b",
   "metadata": {},
   "source": [
    "For sentiment analysis, the corpus was filtered to only nouns and verbs and then combined with a pre-made table containing sentiment lexicons of vocabularies (It should be noted that the sentiment 'trust' was omitted from this analysis). The sentiment of each vocabulary was then weighed by TFIDF."
   ]
  },
  {
   "cell_type": "markdown",
   "id": "9e82180f-ee2a-4d52-9181-51ecad62a7c5",
   "metadata": {},
   "source": [
    "The average sentiments expressed in the entire corpus is as below:\n",
    "\n",
    "<img src=\"output/images/sentiment.png\"  style=\"width: 500px;\"/>"
   ]
  },
  {
   "cell_type": "markdown",
   "id": "b07f555b-c737-4081-9a70-66461096cbf8",
   "metadata": {},
   "source": [
    "When grouped by genre, one is able to see the difference in sentiment between reviews of comedy performances and tragedy performances.\n",
    "\n",
    "<img src=\"output/images/sentiment_genre.png\"  style=\"width: 500px;\"/>"
   ]
  },
  {
   "cell_type": "markdown",
   "id": "45158f10-55b1-44b8-9555-733df6308cb3",
   "metadata": {},
   "source": [
    "Reviews of tragedy plays have a negative sentiment, with emotions such as fear and anger having the highest values. In contrast, reviews of comedy plays have an overall positive sentiment with joy having the highest value.\n",
    "\n",
    "Is this because of the emotions associated with the content of the plays, or is it because of how the performance was perceived by the reviewer? Further analysis suggests the former to be true. Below are sentiments of the corpus grouped by the genre of the referenced Shakespeare play and thhe rating category.\n",
    "\n",
    "<img src=\"output/images/sentiment_rating_genre.png\"  style=\"width: 750px;\"/>"
   ]
  },
  {
   "cell_type": "markdown",
   "id": "9ae5cd13-b0b1-47ce-8f04-0a7c8fa56b57",
   "metadata": {},
   "source": [
    "For both tragedies and comedies, the sentiment expressed in the reviews do not change in terms of the ratio between individual emotions. In fact, reviews that negatively rate the performances do not express particularly more negative sentiments; Instead, they simply do not express as much emotion. \n",
    "\n",
    "To the author of this paper, personally this makes sense. Theatrical performances are considered to be of high quality when they invoke strong emotions within the audience; And a reviewer cannot write an emotionally charged review if they did not feel emotions from a performance.\n",
    "\n",
    "An exception to this is when a performance is extremely negatively received. Below is the sentiment of the corpus, grouped by the rating value of 1 to 5:\n",
    "\n",
    "<img src=\"output/images/sentiment_rating_detail.png\"  style=\"width: 500px;\"/>"
   ]
  },
  {
   "cell_type": "markdown",
   "id": "421babc6-166a-4158-9eba-e47bb63fadd6",
   "metadata": {
    "tags": []
   },
   "source": [
    "Reviews that gave performances a rating of 1 have an extremely negative overall sentiment value and a high anger value compared to the other lower rating values like 2 and 3. Those who were angered enough to write about a performance that they deemed to be the lowest quality possible would be quite vocal in their reviews."
   ]
  },
  {
   "cell_type": "markdown",
   "id": "e59bef5d-d7fa-4da6-aa08-02ab5faf8545",
   "metadata": {
    "tags": []
   },
   "source": [
    "## Conclusion"
   ]
  },
  {
   "cell_type": "markdown",
   "id": "1b39d1d2-b1ff-46b3-bce1-7a59244c4a67",
   "metadata": {},
   "source": [
    "As indicated by topic modeling and word embedding, theatre performance reviews are primarily concerned with the components of the performance itself, such as the acting and technical designs, rather than the plot of the show. However, PCA and sentiment analysis were sensitive to the plot of the Shakespeare play that the performance referenced. \n",
    "\n",
    "This is because both topic modeling and word embedding are methods for interpreting the 'internal map' of the corpus by using the distributions of words in it. On the other hand, PCA identifies and combines features with maximum variance; it must have captured the difference between reviews of a particular Shakespeare play against another. As for the sentiment analysis, the one employed in this project is lexicon-based, so it makes sense that reviews discussing performances of tragic plays would be inteerpreted as tragic. "
   ]
  },
  {
   "cell_type": "markdown",
   "id": "0f6a2070-344c-4d05-8d84-603e937a6c2a",
   "metadata": {},
   "source": [
    "## Appendix"
   ]
  },
  {
   "cell_type": "markdown",
   "id": "7fccbd0f-63d3-4e9d-b160-258853286b1b",
   "metadata": {},
   "source": [
    "* `CORPUS.csv`\n",
    "  * URL: https://github.com/ak7ra/eta_theatre_reviews/blob/main/output/CORPUS.csv\n",
    "  * Columns:\n",
    "    * `review_id` : string variable used to identify each document in corpus\n",
    "    * `sent_id` : numerical variable used to identify each sentence in a document\n",
    "    * `token_id` : numerical variable used to identify each token in a sentence\n",
    "    * `term_str` : string variable containing the term of each token\n",
    "    * `pos_tuple` : tuple variable containing the term string and the associated part-of-speech\n",
    "    * `pos` : string variable indicating the part-of-speech of term string\n",
    "\n",
    "* `LIB.csv`\n",
    "  * URL: https://github.com/ak7ra/eta_theatre_reviews/blob/main/output/LIB.csv\n",
    "  * Columns:\n",
    "    * `Original Work` : string variable indicating the Shakespeare play that the reviewed performance was referencing\n",
    "    * `Review Title` : string variable containing the title of each review document\n",
    "    * `Review Author` : string variable indicating thhe author of review document\n",
    "    * `Content` : string variable containing minimally parsed through content of review document\n",
    "    * `Overall Rating` : numerical variable indicating the rating given to the reviewed performance. 1 is be the lowest rating, and 5 is the highest rating\n",
    "    * `Genre` : string variable indicating the genre of the referenced Shakespeare play\n",
    "    * `Rating Category` : string variable indicating whether a review positively or negatively rated a performance \n",
    "\n",
    "* `VOCAB.csv`\n",
    "  * URL: https://github.com/ak7ra/eta_theatre_reviews/blob/main/output/VOCAB.csv\n",
    "  * Columns:\n",
    "    * `term_str` : string variable containing the vocabulary in the corpus\n",
    "    * `n` : numerical variable indicating the number of occurrence of each term\n",
    "    * `n_chars` : numerical variable indicating the number of characters in each term\n",
    "    * `p` : numerical variable indicating the probability of the term occurring in the corpus\n",
    "    * `i` : numerical variable containing the negative log value of the variable `p`\n",
    "    * `max_pos` : string variable indicating the most common part-of-speech for each term\n",
    "    * `n_pos` : numerical variable indicating the number of part-of-speech associated with each term\n",
    "    * `stop` : numerical/boolean variable indicating whether a term is a stop word or not\n",
    "    * `stem_porter` : string variable containing the stem of each term as defined by Porter\n",
    "    * `stem_snowball` : string variable containing the stem of each term as defined by Snowball\n",
    "    * `stem_lancaster` : string variable containing the stem of each term as defined by Lancaster\n",
    "    * `dfidf` : numerical variable containing the DFIDF value for each term"
   ]
  },
  {
   "cell_type": "markdown",
   "id": "dc0d8b50-77a6-4dce-ad0b-e8fa8324701a",
   "metadata": {},
   "source": [
    "* `reduced_tfidf.csv`\n",
    "  * URL: https://github.com/ak7ra/eta_theatre_reviews/blob/main/output/reduced_tfidf.csv\n",
    "  * Columns:\n",
    "    * `review_id` : string variable used to identify each document in corpus\n",
    "    * This table contains as columns 1000 terms that were selected as most important for PCA. They contain the TFIDF values associated with the terms\n",
    "* `pca_dcm.csv`\n",
    "  * URL: https://github.com/ak7ra/eta_theatre_reviews/blob/main/output/pca_dcm.csv\n",
    "  * Columns:\n",
    "    * `review_id` : string variable used to identify each document in corpus\n",
    "    * This table contains 10 columns: `PC0`, `PC1`, `PC2`, `PC3`, `PC4`, `PC5`, `PC6`, `PC7`, `PC8`, `PC9`. These columns contain information on the 10 principal components generated through PCA, and indicates the extent to which a review document is associated with a principal component\n",
    "    * This table contains the columns `Genre`, `Original Work`, `Review Authohr` and `Rating Category` which are taken from and explained under the `LIB` table\n",
    "* `pca_loadings.csv`\n",
    "  * URL: https://github.com/ak7ra/eta_theatre_reviews/blob/main/output/pca_loadings.csv\n",
    "  * Columns:\n",
    "    * `term_str` : string variable used to identify 1000 most important terms in corpus\n",
    "    * This table contains 10 columns: `PC0`, `PC1`, `PC2`, `PC3`, `PC4`, `PC5`, `PC6`, `PC7`, `PC8`, `PC9`. These columns contain information on the 10 principal components generated through PCA, and indicates the extent to which a term is associated with a principal component\n",
    "* `pca_compinf.csv`\n",
    "  * URL: https://github.com/ak7ra/eta_theatre_reviews/blob/main/output/pca_compinf.csv\n",
    "  * Columns:\n",
    "    * `pc_id` : string variable identifying each unique principal component\n",
    "    * `eig_val` : numerical variable containing the eigenvalues associated with each principal component\n",
    "    * This table contains as columns 1000 terms that were selected as most important for PCA. They contain the loadings of each term in relation to the principal component"
   ]
  },
  {
   "cell_type": "markdown",
   "id": "9a257185-d04d-4c92-9d52-ab34e2b01e10",
   "metadata": {},
   "source": [
    "* `topic.csv`\n",
    "  * URL: https://github.com/ak7ra/eta_theatre_reviews/blob/main/output/topic.csv\n",
    "  * Columns:\n",
    "    * `topic_id` : string variable identifying the topics generated by topic modeling\n",
    "    * This table contains 7 columns numbered from 0 to 6. Each column contains one string associated with the topic\n",
    "    * `label` : string variable combining the values of `topic_id` and the 7 numbered columns discussed above\n",
    "    * `doc_weight_sum` : numerical variable containing the sum of weights of each topic\n",
    "    * `term_freq` : numerical variable containing the entrophy of each topic\n",
    "    * This table contains as columns the unique values of the columns `Genre`, `Rating Category` and `Original Work` from the `LIB` table. They contain numerical values indicating the prevalence of each topic within each category\n",
    "* `topic_phi.csv`\n",
    "  * URL: https://github.com/ak7ra/eta_theatre_reviews/blob/main/output/topic_phi.csv\n",
    "  * Columns:\n",
    "    * `topic_id` : string variable identifying the topics generated by topic modeling\n",
    "    * This table contains as columns 1000 most important terms that were selected as most important for topic modeling. They contain numerical values indicating the probability of the term appearing in each topic\n",
    "* `topic_theta.csv`\n",
    "  * URL: https://github.com/ak7ra/eta_theatre_reviews/blob/main/output/topic_theta.csv\n",
    "  * Columns:\n",
    "    * `review_id` : string variable used to identify each document in corpus\n",
    "    * `sent_id` : numerical variable used to identify each sentence in a document\n",
    "    * This table contains 25 columns, each associated with a topic generated by the topic model. They contain numerical values indicating the probablity of each topic appearing in a sentence of a review document"
   ]
  },
  {
   "cell_type": "markdown",
   "id": "ad689b9c-84f6-4bc6-9626-08ae28b77a22",
   "metadata": {},
   "source": [
    "* `word2vec.csv`\n",
    "  * URL: https://github.com/ak7ra/eta_theatre_reviews/blob/main/output/word2vec.csv\n",
    "  * Columns:\n",
    "    * `term_str` : string variable containing select terms from corpus\n",
    "    * `vector` : list variable containing vectors for each term as generated by the word2vec model\n",
    "    * `x` : numerical variable containing the x-value of each term\n",
    "    * `y` : numerical variable containing the y-value of each term\n",
    "    * `n` : numerical variable indicating the number of occurrences for each term\n",
    "    * `pos_group` : string variable indicating the associated part-of-speech for each term\n",
    "    * `log(freq)` : numerical variable containing the log value of the number of occurrence of each term"
   ]
  },
  {
   "cell_type": "markdown",
   "id": "8a50393e-4d27-4cb8-b9be-226380edc205",
   "metadata": {},
   "source": [
    "* `sentiment.csv`\n",
    "  * URL: https://github.com/ak7ra/eta_theatre_reviews/blob/main/output/sentiment.csv\n",
    "  * Columns:\n",
    "    * `review_id` : string variable used to identify each document in corpus\n",
    "    * `term_str` : string variable containing the term of each token\n",
    "    * `tfidf` : numerical variable containing the TFIDF value of each term\n",
    "    * This table contains the columns `anger`, `anticipation`, `disgust`, `fear`, `joy`, `sadness`, `surprise` and `sentiment`. The columns contain the numerical value indicating the level of their respective emotions expressed by each term, weighed by TFIDF\n",
    "    * This table contains the columns `Genre`, `Original Work`, `Review Author`, `Overall Rating` and `Rating Category` from the `LIB` table"
   ]
  }
 ],
 "metadata": {
  "kernelspec": {
   "display_name": "Python 3 (ipykernel)",
   "language": "python",
   "name": "python3"
  },
  "language_info": {
   "codemirror_mode": {
    "name": "ipython",
    "version": 3
   },
   "file_extension": ".py",
   "mimetype": "text/x-python",
   "name": "python",
   "nbconvert_exporter": "python",
   "pygments_lexer": "ipython3",
   "version": "3.9.16"
  }
 },
 "nbformat": 4,
 "nbformat_minor": 5
}
