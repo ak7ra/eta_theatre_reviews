{
 "cells": [
  {
   "cell_type": "markdown",
   "id": "97f07ddf-1922-42a4-b957-95c225746238",
   "metadata": {},
   "source": [
    "# Exploratory Text Analysis of Theater Performance Reviews\n",
    "\n",
    "### Ami Kano"
   ]
  },
  {
   "cell_type": "markdown",
   "id": "7f56a045-f942-4600-928f-09bc415466d3",
   "metadata": {
    "tags": []
   },
   "source": [
    "## Introduction"
   ]
  },
  {
   "cell_type": "code",
   "execution_count": null,
   "id": "70ae3707-3d4e-423a-a445-812a0305e070",
   "metadata": {},
   "outputs": [],
   "source": []
  },
  {
   "cell_type": "code",
   "execution_count": null,
   "id": "1a5bc796-1c28-4835-9ea4-c31693fb5aa6",
   "metadata": {},
   "outputs": [],
   "source": []
  },
  {
   "cell_type": "code",
   "execution_count": null,
   "id": "145a646e-38b7-4d70-b9bd-db49607ba5a8",
   "metadata": {},
   "outputs": [],
   "source": []
  },
  {
   "cell_type": "markdown",
   "id": "8f9c7842-74e9-4de0-a34a-4c1f3ce2b578",
   "metadata": {
    "tags": []
   },
   "source": [
    "## Source Data. Provide a description of all relativant source files and describe the following features for each source file:\n",
    "\n",
    "- Provenance: Where did they come from? Describe the website or other source and provide relevant URLs.\n",
    "- Location: Provide a link to the source files in UVA Box.\n",
    "- Description: What is the general subject matter of the corpus? How many observations are there? What is the average document length?\n",
    "- Format: A description of both the file formats of the source files, e.g., plaintext, XML, CSV, etc., and the internal structure where applicable. For - example, if XML then specify document type (e.g., TEI or XHTML)."
   ]
  },
  {
   "cell_type": "code",
   "execution_count": null,
   "id": "2fa3717c-7ca8-4ea2-8105-1e33ee48f6f2",
   "metadata": {},
   "outputs": [],
   "source": []
  },
  {
   "cell_type": "code",
   "execution_count": null,
   "id": "41d49638-9b29-4c46-9098-485c58e03641",
   "metadata": {},
   "outputs": [],
   "source": []
  },
  {
   "cell_type": "code",
   "execution_count": null,
   "id": "cc5bd931-16d0-4cb9-9f9f-b7d625d4bfd1",
   "metadata": {},
   "outputs": [],
   "source": []
  },
  {
   "cell_type": "markdown",
   "id": "bec07f90-7fa3-4b6d-a3dc-9801151d5dfe",
   "metadata": {},
   "source": [
    "## Data Model. Describe the analytical tables you generated in the process of tokenization, annotation, and analysis of your corpus. You provide a list of tables with field names and their definition, along with URLs to each associated CSV file."
   ]
  },
  {
   "cell_type": "code",
   "execution_count": null,
   "id": "4d1eacf3-dd09-42dd-ba11-180d3c9e7076",
   "metadata": {},
   "outputs": [],
   "source": []
  },
  {
   "cell_type": "code",
   "execution_count": null,
   "id": "16b3455b-d6e7-4e57-85af-429b01bc2afd",
   "metadata": {},
   "outputs": [],
   "source": []
  },
  {
   "cell_type": "code",
   "execution_count": null,
   "id": "34894cc7-3b60-469f-85a3-5b449997bdfe",
   "metadata": {},
   "outputs": [],
   "source": []
  },
  {
   "cell_type": "markdown",
   "id": "d75f80b2-d056-4320-a8e1-5dfc9d92f28b",
   "metadata": {},
   "source": [
    "## Exploration. Describe each of your explorations, such as PCA and topic models. For each, include the relevant parameters and hyperparemeters used to generate each model and visualization. For your visualizations, you should use at least three (but likely more) of the following visualization types:\n",
    "\n",
    "- Hierarchical cluster diagrams\n",
    "- Heatmaps showing correlations\n",
    "- Scatter plots\n",
    "- KDE plots\n",
    "- Dispersion plots\n",
    "- t-SNE plots"
   ]
  },
  {
   "cell_type": "code",
   "execution_count": null,
   "id": "e8f27c78-dee8-4a12-89da-456f149141ce",
   "metadata": {},
   "outputs": [],
   "source": []
  },
  {
   "cell_type": "code",
   "execution_count": null,
   "id": "5899bef2-0237-4fc9-a14d-3cd163199755",
   "metadata": {},
   "outputs": [],
   "source": []
  },
  {
   "cell_type": "code",
   "execution_count": null,
   "id": "314371bc-4644-4831-8a3a-45a9b6e133f6",
   "metadata": {},
   "outputs": [],
   "source": []
  }
 ],
 "metadata": {
  "kernelspec": {
   "display_name": "Python 3 (ipykernel)",
   "language": "python",
   "name": "python3"
  },
  "language_info": {
   "codemirror_mode": {
    "name": "ipython",
    "version": 3
   },
   "file_extension": ".py",
   "mimetype": "text/x-python",
   "name": "python",
   "nbconvert_exporter": "python",
   "pygments_lexer": "ipython3",
   "version": "3.9.16"
  }
 },
 "nbformat": 4,
 "nbformat_minor": 5
}
